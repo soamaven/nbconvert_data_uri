{
 "cells": [
  {
   "cell_type": "markdown",
   "metadata": {},
   "source": [
    "###### This Markdown cell displays a local image with the html below:"
   ]
  },
  {
   "cell_type": "markdown",
   "metadata": {},
   "source": [
    "`<img src=\"favorites.png\" alt=\"Alt_name\" title=\"Mytitle\" align=\"center\" />`\n",
    "<img src=\"favorites.png\" alt=\"Alt_name\" title=\"Mytitle\" align=\"center\" />"
   ]
  },
  {
   "cell_type": "markdown",
   "metadata": {},
   "source": [
    "###### This Markdown cell trys to display the base64 encoded image. The encoding was done using [this site](http://freeonlinetools24.com/base64-image)"
   ]
  },
  {
   "cell_type": "markdown",
   "metadata": {},
   "source": [
    "`<img src='data:image/png;base64,iVBORw0KGgoAAAANSUhEUgAAABgAAAAYCAYAAADgdz34AAAABmJLR0QA/wD/AP+gvaeTAAAACXBIWXMAAABIAAAASABGyWs+AAAACXZwQWcAAAAYAAAAGAB4TKWmAAAEhUlEQVRIx91US4tcVRD+6j67e7r7ziPTQ9OZmHEwojJuxIhB1JCEBFdxETAqroMr/QGC4MJNQAVFFHwjCKKRSLIIGh0N0YAYDRHywjjJZN79uNN3+r7OqXLR3TOdSTI7NxYc6txzq77vq7p1D/AfG93u8Kft9+QMy+wnAolI8Njpi/76mMkHRy0yMAiCA0EMltrj56b1hgQ/79iWX7o0+5Jtuwf6BorjRDCiIJxpLTcnCyPFN/ZcmDl/6uG7qD7dOMApDuUHvQnTNPJKsR9U6+cMG+8VN/UdefKvOb6F4MS95crK4srxynh5IjuUhTVcALSG8ltQforaQjMO/MZhVnJ/afPI/lzeIDMnMCwDHKfQkYnWisjCtdlv+4ezL+y8tLS8SvDjxObc8lzzm8rYyG5v+1bqmxgTCJOkCViloqo+BWenEMwmYppArmxRZmxQiECiFERp0WFM0dU64sCRmb9nvy4U7Od3XfcjCwAaM/X9pcrIrtxYgdxRD+nSPNqJKZBqsEqRHffA8Q0yXFPs4Ry070OUXltaw/IIOqijVBl+emFq7lkAHxIAHB32fqhsGXhiYOcYwLoD3l1rAFgHKIoBzat7ThjKT8GJi3k/Pe8Y+iHrxJbBopCzzcwKVK22WrIoTVAaollEaZIOEBSLaCZRLKKYdMzgmIUjTRwzwBCYmrL54qgKmlssYekzHMOWJIFaakB6FIlmoONFS9srgW5p6FBDUgEEEBEQtedFREDMMAyyAWQsgbS0ZsWRRlpLRLR0yhZZAxYRFkgq0K32u87wdT1EVs9g5FxJoiQAsGDsm274aRhPCVtQfkzKjyj1Yyg/IbWckmqmUE1FuqlJB0yiBdSRSx3r3ZNlwBooUrTSOrNvaWXRAgBO4y+1NfSIVGsCAKIBCERYujoFPdZV26taRIQMglMqYtlXiW3iTQAwAMB2zI+WFhqXzfwQSQISJQCDCESQHnU9am+pwDTIGfEolQxqM9W33Iw9uUrw1HyznjabLza1FRr5AkC3vaLufKFZBtyyB00Zmb48dzzT776ye2aZAcDsBn2R6Kt7o2jaLXp7Xce0JElWWboq1z+3e27CrQxAsYN/Ls1/X3fN5w4urgTdWLM38atU//loGF7IZfN7c30ZV+JoQ+Vm1oG7eRBJaODCxbljV2165mU/atwUsz5pa9a5+HvV/61sOXu8/kIBSQzq+Qxd5WYhC7cyRKGv5bvLc8dej9WhmmH41xTzhgQtEfuE4uofQfjLNiXbS6WhTYjCm1pkD+bJKQ8gWExw9Mr8kcOJfrUOhNcVy5hJuiHgOxJogRMCmSrQOhWnJz2/NTo+MnS3yQpghlMegLPJQ+PGCn9yZf7TdzW/kwAhgBSAigWJwgYEDEC3p8sIgfRX5tOW3zLHvcID+ZJnWV4OC1N+/MHU0vufi3ysgQBtghBApIB4wxZpgG1AGYBmQGkgPityZnG5NX2f0I5WI+K3b9ReOyL4jAEfbYImrRHd9FNuOPCDBHKILBBsDZg7gImsYOgkYTIVsAmomEU1AYX/rf0L5MnfQwHIBdQAAAAldEVYdGRhdGU6Y3JlYXRlADIwMTAtMDItMTBUMTI6Mjg6MTAtMDY6MDAAG4MqAAAAJXRFWHRkYXRlOm1vZGlmeQAyMDA5LTA1LTI1VDIxOjIwOjE2LTA1OjAwhLoNbgAAAABJRU5ErkJggg==' />`\n",
    "\n",
    "<img src='data:image/png;base64,iVBORw0KGgoAAAANSUhEUgAAABgAAAAYCAYAAADgdz34AAAABmJLR0QA/wD/AP+gvaeTAAAACXBIWXMAAABIAAAASABGyWs+AAAACXZwQWcAAAAYAAAAGAB4TKWmAAAEhUlEQVRIx91US4tcVRD+6j67e7r7ziPTQ9OZmHEwojJuxIhB1JCEBFdxETAqroMr/QGC4MJNQAVFFHwjCKKRSLIIGh0N0YAYDRHywjjJZN79uNN3+r7OqXLR3TOdSTI7NxYc6txzq77vq7p1D/AfG93u8Kft9+QMy+wnAolI8Njpi/76mMkHRy0yMAiCA0EMltrj56b1hgQ/79iWX7o0+5Jtuwf6BorjRDCiIJxpLTcnCyPFN/ZcmDl/6uG7qD7dOMApDuUHvQnTNPJKsR9U6+cMG+8VN/UdefKvOb6F4MS95crK4srxynh5IjuUhTVcALSG8ltQforaQjMO/MZhVnJ/afPI/lzeIDMnMCwDHKfQkYnWisjCtdlv+4ezL+y8tLS8SvDjxObc8lzzm8rYyG5v+1bqmxgTCJOkCViloqo+BWenEMwmYppArmxRZmxQiECiFERp0WFM0dU64sCRmb9nvy4U7Od3XfcjCwAaM/X9pcrIrtxYgdxRD+nSPNqJKZBqsEqRHffA8Q0yXFPs4Ry070OUXltaw/IIOqijVBl+emFq7lkAHxIAHB32fqhsGXhiYOcYwLoD3l1rAFgHKIoBzat7ThjKT8GJi3k/Pe8Y+iHrxJbBopCzzcwKVK22WrIoTVAaollEaZIOEBSLaCZRLKKYdMzgmIUjTRwzwBCYmrL54qgKmlssYekzHMOWJIFaakB6FIlmoONFS9srgW5p6FBDUgEEEBEQtedFREDMMAyyAWQsgbS0ZsWRRlpLRLR0yhZZAxYRFkgq0K32u87wdT1EVs9g5FxJoiQAsGDsm274aRhPCVtQfkzKjyj1Yyg/IbWckmqmUE1FuqlJB0yiBdSRSx3r3ZNlwBooUrTSOrNvaWXRAgBO4y+1NfSIVGsCAKIBCERYujoFPdZV26taRIQMglMqYtlXiW3iTQAwAMB2zI+WFhqXzfwQSQISJQCDCESQHnU9am+pwDTIGfEolQxqM9W33Iw9uUrw1HyznjabLza1FRr5AkC3vaLufKFZBtyyB00Zmb48dzzT776ye2aZAcDsBn2R6Kt7o2jaLXp7Xce0JElWWboq1z+3e27CrQxAsYN/Ls1/X3fN5w4urgTdWLM38atU//loGF7IZfN7c30ZV+JoQ+Vm1oG7eRBJaODCxbljV2165mU/atwUsz5pa9a5+HvV/61sOXu8/kIBSQzq+Qxd5WYhC7cyRKGv5bvLc8dej9WhmmH41xTzhgQtEfuE4uofQfjLNiXbS6WhTYjCm1pkD+bJKQ8gWExw9Mr8kcOJfrUOhNcVy5hJuiHgOxJogRMCmSrQOhWnJz2/NTo+MnS3yQpghlMegLPJQ+PGCn9yZf7TdzW/kwAhgBSAigWJwgYEDEC3p8sIgfRX5tOW3zLHvcID+ZJnWV4OC1N+/MHU0vufi3ysgQBtghBApIB4wxZpgG1AGYBmQGkgPityZnG5NX2f0I5WI+K3b9ReOyL4jAEfbYImrRHd9FNuOPCDBHKILBBsDZg7gImsYOgkYTIVsAmomEU1AYX/rf0L5MnfQwHIBdQAAAAldEVYdGRhdGU6Y3JlYXRlADIwMTAtMDItMTBUMTI6Mjg6MTAtMDY6MDAAG4MqAAAAJXRFWHRkYXRlOm1vZGlmeQAyMDA5LTA1LTI1VDIxOjIwOjE2LTA1OjAwhLoNbgAAAABJRU5ErkJggg==' />"
   ]
  },
  {
   "cell_type": "markdown",
   "metadata": {},
   "source": [
    "###### Image Displays doesn't show up in Jupyter... but does when converting the notebook to html!"
   ]
  },
  {
   "cell_type": "markdown",
   "metadata": {},
   "source": [
    "###### Lets use the Python code below to convert the sample image to base64 and try to output that as Markdown"
   ]
  },
  {
   "cell_type": "code",
   "execution_count": 1,
   "metadata": {
    "collapsed": true
   },
   "outputs": [],
   "source": [
    "# A non-trivial string of html code to parse as a test input\n",
    "source = '<html><head><title>Test</title></head><body><h1>Parse me!</h1></body></html><img src=\"favorites.png\" alt=\"Alt_name\" title=\"Mytitle\" align=\"center\" /><html><head><title>Test</title></head><body><h1>Parse me!</h1></body></html>'"
   ]
  },
  {
   "cell_type": "code",
   "execution_count": 2,
   "metadata": {
    "collapsed": false
   },
   "outputs": [],
   "source": [
    "\"\"\"HTML Image handling for embedded images in markdown cells.\"\"\"\n",
    "\n",
    "#-----------------------------------------------------------------------------\n",
    "# Copyright (c) 2013, the IPython Development Team.\n",
    "#\n",
    "# Distributed under the terms of the Modified BSD License.\n",
    "#\n",
    "# The full license is in the file COPYING.txt, distributed with this software.\n",
    "#-----------------------------------------------------------------------------\n",
    "\n",
    "#-----------------------------------------------------------------------------\n",
    "# Imports\n",
    "#-----------------------------------------------------------------------------\n",
    "from ipython_genutils.py3compat import PY3\n",
    "if PY3:\n",
    "    from html.parser import HTMLParser\n",
    "else:\n",
    "    from HTMLParser import HTMLParser\n",
    "import base64\n",
    "import os.path\n",
    "\n",
    "#-----------------------------------------------------------------------------\n",
    "# Functions\n",
    "#-----------------------------------------------------------------------------\n",
    "\n",
    "__all__ = ['img2base64']\n",
    "\n",
    "\n",
    "def img2base64(s):\n",
    "    \"\"\"Parse HTML image references in Markdown cells.\n",
    "\n",
    "    This looks for HTML tags having a img tag name `img`\n",
    "    and converts the image to a data URI for static embedding.\n",
    "    The tranformation looks like this:\n",
    "\n",
    "    `<img src=\"./Images/My_image.png\" width=\"800\" height=\"800\" alt=\"Alt_name\" title=\"Mytitle\" align=\"center\" />`\n",
    "\n",
    "    Becomes\n",
    "\n",
    "    `<img src=\"data:image/png;base64,iVBORw0KGgoAAAANSUhEUgAAADIA...\" width=\"800\" height=\"800\" alt=\"Alt_name\" title=\"Mytitle\" align=\"center\" />`\n",
    "\n",
    "    Any HTML tag can be used, which allows the citations to be formatted\n",
    "    in HTML in any manner.\n",
    "    \"\"\"\n",
    "    parser = Img2Base64Parser()\n",
    "    parser.feed(s)\n",
    "    parser.close()\n",
    "    outtext = u''\n",
    "    startpos = 0\n",
    "    for img in parser.imglist:\n",
    "            outtext += s[startpos:img[1][0]]\n",
    "            outtext += 'data:image/%s;base64,%s'% \\\n",
    "                (img[0][1],str(img[0][0]).lstrip('b\\'').rstrip('\\''))\n",
    "            startpos = img[1][1] if len(img)==3 else -1\n",
    "    outtext += s[startpos:] if startpos != -1 else ''\n",
    "    return outtext\n",
    "\n",
    "#-----------------------------------------------------------------------------\n",
    "# Classes\n",
    "#-----------------------------------------------------------------------------\n",
    "\n",
    "class Img2Base64Parser(HTMLParser):\n",
    "    \"\"\"Image Parser\n",
    "    Replaces html img file references with base64 encoded strings.\n",
    "    \n",
    "    Inherites from HTMLParser, overrides:\n",
    "     - handle_starttag\n",
    "     - handle_endtag\n",
    "    \"\"\"\n",
    "    # number of open tags\n",
    "    opentags = None\n",
    "    # list of found imgs\n",
    "    imglist = None\n",
    "    # active img tag\n",
    "    imgtag = None\n",
    "\n",
    "    def __init__(self):\n",
    "        self.imglist = []\n",
    "        self.opentags = 0\n",
    "        HTMLParser.__init__(self)\n",
    "    \n",
    "    def get_offset(self):\n",
    "        # Compute startposition in source\n",
    "        lin, offset = self.getpos()\n",
    "        pos = 0\n",
    "        for i in range(lin):\n",
    "            pos = self.data.find('src=',pos) + 5\n",
    "        return pos\n",
    "        \n",
    "    def handle_starttag(self, tag, attrs):\n",
    "        # for each tag check if attributes are present and convert src to base64\n",
    "        if self.opentags == 0 and len(attrs)>0:\n",
    "            for atr, data in attrs:\n",
    "                if atr.lower() == 'src':\n",
    "                    self.imgtag = tag\n",
    "                    self.opentags = 1\n",
    "                    with open(data, \"rb\") as image_file:\n",
    "                        encoded_data = base64.b64encode(image_file.read())\n",
    "                        extension = os.path.splitext(data)[1][1:].strip().lower()\n",
    "                    self.imglist.append([[encoded_data, extension],\n",
    "                                         [self.get_offset(), self.get_offset()+len(data)]])\n",
    "                    return\n",
    "                \n",
    "        if tag == self.imgtag:\n",
    "            # found an open img tag but not the starting one  \n",
    "            self.opentags += 1\n",
    "  \n",
    "    def handle_endtag(self, tag):\n",
    "        if tag == self.imgtag:\n",
    "            # found img tag check if starting one\n",
    "            if self.opentags == 1:\n",
    "                pos = self.get_offset()\n",
    "\n",
    "                self.imglist[-1].append(pos+len(tag)+ 3)\n",
    "            self.opentags -= 1\n",
    "        \n",
    "    def feed(self, data):\n",
    "        self.data = data\n",
    "        HTMLParser.feed(self, data)\n",
    "        \n",
    "output = img2base64(source)"
   ]
  },
  {
   "cell_type": "code",
   "execution_count": 3,
   "metadata": {
    "collapsed": false
   },
   "outputs": [
    {
     "data": {
      "text/markdown": [
       "###### Literal HTML Code:\n",
       "\n",
       "`<html><head><title>Test</title></head><body><h1>Parse me!</h1></body></html><img src=\"data:image/png;base64,iVBORw0KGgoAAAANSUhEUgAAABgAAAAYCAYAAADgdz34AAAABmJLR0QA/wD/AP+gvaeTAAAACXBIWXMAAABIAAAASABGyWs+AAAACXZwQWcAAAAYAAAAGAB4TKWmAAAEhUlEQVRIx91US4tcVRD+6j67e7r7ziPTQ9OZmHEwojJuxIhB1JCEBFdxETAqroMr/QGC4MJNQAVFFHwjCKKRSLIIGh0N0YAYDRHywjjJZN79uNN3+r7OqXLR3TOdSTI7NxYc6txzq77vq7p1D/AfG93u8Kft9+QMy+wnAolI8Njpi/76mMkHRy0yMAiCA0EMltrj56b1hgQ/79iWX7o0+5Jtuwf6BorjRDCiIJxpLTcnCyPFN/ZcmDl/6uG7qD7dOMApDuUHvQnTNPJKsR9U6+cMG+8VN/UdefKvOb6F4MS95crK4srxynh5IjuUhTVcALSG8ltQforaQjMO/MZhVnJ/afPI/lzeIDMnMCwDHKfQkYnWisjCtdlv+4ezL+y8tLS8SvDjxObc8lzzm8rYyG5v+1bqmxgTCJOkCViloqo+BWenEMwmYppArmxRZmxQiECiFERp0WFM0dU64sCRmb9nvy4U7Od3XfcjCwAaM/X9pcrIrtxYgdxRD+nSPNqJKZBqsEqRHffA8Q0yXFPs4Ry070OUXltaw/IIOqijVBl+emFq7lkAHxIAHB32fqhsGXhiYOcYwLoD3l1rAFgHKIoBzat7ThjKT8GJi3k/Pe8Y+iHrxJbBopCzzcwKVK22WrIoTVAaollEaZIOEBSLaCZRLKKYdMzgmIUjTRwzwBCYmrL54qgKmlssYekzHMOWJIFaakB6FIlmoONFS9srgW5p6FBDUgEEEBEQtedFREDMMAyyAWQsgbS0ZsWRRlpLRLR0yhZZAxYRFkgq0K32u87wdT1EVs9g5FxJoiQAsGDsm274aRhPCVtQfkzKjyj1Yyg/IbWckmqmUE1FuqlJB0yiBdSRSx3r3ZNlwBooUrTSOrNvaWXRAgBO4y+1NfSIVGsCAKIBCERYujoFPdZV26taRIQMglMqYtlXiW3iTQAwAMB2zI+WFhqXzfwQSQISJQCDCESQHnU9am+pwDTIGfEolQxqM9W33Iw9uUrw1HyznjabLza1FRr5AkC3vaLufKFZBtyyB00Zmb48dzzT776ye2aZAcDsBn2R6Kt7o2jaLXp7Xce0JElWWboq1z+3e27CrQxAsYN/Ls1/X3fN5w4urgTdWLM38atU//loGF7IZfN7c30ZV+JoQ+Vm1oG7eRBJaODCxbljV2165mU/atwUsz5pa9a5+HvV/61sOXu8/kIBSQzq+Qxd5WYhC7cyRKGv5bvLc8dej9WhmmH41xTzhgQtEfuE4uofQfjLNiXbS6WhTYjCm1pkD+bJKQ8gWExw9Mr8kcOJfrUOhNcVy5hJuiHgOxJogRMCmSrQOhWnJz2/NTo+MnS3yQpghlMegLPJQ+PGCn9yZf7TdzW/kwAhgBSAigWJwgYEDEC3p8sIgfRX5tOW3zLHvcID+ZJnWV4OC1N+/MHU0vufi3ysgQBtghBApIB4wxZpgG1AGYBmQGkgPityZnG5NX2f0I5WI+K3b9ReOyL4jAEfbYImrRHd9FNuOPCDBHKILBBsDZg7gImsYOgkYTIVsAmomEU1AYX/rf0L5MnfQwHIBdQAAAAldEVYdGRhdGU6Y3JlYXRlADIwMTAtMDItMTBUMTI6Mjg6MTAtMDY6MDAAG4MqAAAAJXRFWHRkYXRlOm1vZGlmeQAyMDA5LTA1LTI1VDIxOjIwOjE2LTA1OjAwhLoNbgAAAABJRU5ErkJggg==\" alt=\"Alt_name\" title=\"Mytitle\" align=\"center\" /><html><head><title>Test</title></head><body><h1>Parse me!</h1></body></html>`"
      ],
      "text/plain": [
       "<IPython.core.display.Markdown object>"
      ]
     },
     "metadata": {},
     "output_type": "display_data"
    },
    {
     "data": {
      "text/markdown": [
       "###### Attempting to display the base64 encoding:\n",
       "\n"
      ],
      "text/plain": [
       "<IPython.core.display.Markdown object>"
      ]
     },
     "metadata": {},
     "output_type": "display_data"
    },
    {
     "data": {
      "text/markdown": [
       "<html><head><title>Test</title></head><body><h1>Parse me!</h1></body></html><img src=\"data:image/png;base64,iVBORw0KGgoAAAANSUhEUgAAABgAAAAYCAYAAADgdz34AAAABmJLR0QA/wD/AP+gvaeTAAAACXBIWXMAAABIAAAASABGyWs+AAAACXZwQWcAAAAYAAAAGAB4TKWmAAAEhUlEQVRIx91US4tcVRD+6j67e7r7ziPTQ9OZmHEwojJuxIhB1JCEBFdxETAqroMr/QGC4MJNQAVFFHwjCKKRSLIIGh0N0YAYDRHywjjJZN79uNN3+r7OqXLR3TOdSTI7NxYc6txzq77vq7p1D/AfG93u8Kft9+QMy+wnAolI8Njpi/76mMkHRy0yMAiCA0EMltrj56b1hgQ/79iWX7o0+5Jtuwf6BorjRDCiIJxpLTcnCyPFN/ZcmDl/6uG7qD7dOMApDuUHvQnTNPJKsR9U6+cMG+8VN/UdefKvOb6F4MS95crK4srxynh5IjuUhTVcALSG8ltQforaQjMO/MZhVnJ/afPI/lzeIDMnMCwDHKfQkYnWisjCtdlv+4ezL+y8tLS8SvDjxObc8lzzm8rYyG5v+1bqmxgTCJOkCViloqo+BWenEMwmYppArmxRZmxQiECiFERp0WFM0dU64sCRmb9nvy4U7Od3XfcjCwAaM/X9pcrIrtxYgdxRD+nSPNqJKZBqsEqRHffA8Q0yXFPs4Ry070OUXltaw/IIOqijVBl+emFq7lkAHxIAHB32fqhsGXhiYOcYwLoD3l1rAFgHKIoBzat7ThjKT8GJi3k/Pe8Y+iHrxJbBopCzzcwKVK22WrIoTVAaollEaZIOEBSLaCZRLKKYdMzgmIUjTRwzwBCYmrL54qgKmlssYekzHMOWJIFaakB6FIlmoONFS9srgW5p6FBDUgEEEBEQtedFREDMMAyyAWQsgbS0ZsWRRlpLRLR0yhZZAxYRFkgq0K32u87wdT1EVs9g5FxJoiQAsGDsm274aRhPCVtQfkzKjyj1Yyg/IbWckmqmUE1FuqlJB0yiBdSRSx3r3ZNlwBooUrTSOrNvaWXRAgBO4y+1NfSIVGsCAKIBCERYujoFPdZV26taRIQMglMqYtlXiW3iTQAwAMB2zI+WFhqXzfwQSQISJQCDCESQHnU9am+pwDTIGfEolQxqM9W33Iw9uUrw1HyznjabLza1FRr5AkC3vaLufKFZBtyyB00Zmb48dzzT776ye2aZAcDsBn2R6Kt7o2jaLXp7Xce0JElWWboq1z+3e27CrQxAsYN/Ls1/X3fN5w4urgTdWLM38atU//loGF7IZfN7c30ZV+JoQ+Vm1oG7eRBJaODCxbljV2165mU/atwUsz5pa9a5+HvV/61sOXu8/kIBSQzq+Qxd5WYhC7cyRKGv5bvLc8dej9WhmmH41xTzhgQtEfuE4uofQfjLNiXbS6WhTYjCm1pkD+bJKQ8gWExw9Mr8kcOJfrUOhNcVy5hJuiHgOxJogRMCmSrQOhWnJz2/NTo+MnS3yQpghlMegLPJQ+PGCn9yZf7TdzW/kwAhgBSAigWJwgYEDEC3p8sIgfRX5tOW3zLHvcID+ZJnWV4OC1N+/MHU0vufi3ysgQBtghBApIB4wxZpgG1AGYBmQGkgPityZnG5NX2f0I5WI+K3b9ReOyL4jAEfbYImrRHd9FNuOPCDBHKILBBsDZg7gImsYOgkYTIVsAmomEU1AYX/rf0L5MnfQwHIBdQAAAAldEVYdGRhdGU6Y3JlYXRlADIwMTAtMDItMTBUMTI6Mjg6MTAtMDY6MDAAG4MqAAAAJXRFWHRkYXRlOm1vZGlmeQAyMDA5LTA1LTI1VDIxOjIwOjE2LTA1OjAwhLoNbgAAAABJRU5ErkJggg==\" alt=\"Alt_name\" title=\"Mytitle\" align=\"center\" /><html><head><title>Test</title></head><body><h1>Parse me!</h1></body></html>"
      ],
      "text/plain": [
       "<IPython.core.display.Markdown object>"
      ]
     },
     "metadata": {},
     "output_type": "display_data"
    },
    {
     "data": {
      "text/markdown": [
       "###### It shows the Image now!"
      ],
      "text/plain": [
       "<IPython.core.display.Markdown object>"
      ]
     },
     "metadata": {},
     "output_type": "display_data"
    },
    {
     "data": {
      "text/markdown": [
       "###### Suprising to me, using `base64.urlsafe_b64encode()` does not work but `base64.b64encode()` does."
      ],
      "text/plain": [
       "<IPython.core.display.Markdown object>"
      ]
     },
     "metadata": {},
     "output_type": "display_data"
    }
   ],
   "source": [
    "#Couldn't figure out a programmatic way to copy the output to a new MD cell,\n",
    "#so I just display it from a code cell\n",
    "from IPython.display import display, Markdown\n",
    "display(Markdown(\"###### Literal HTML Code:\\n\\n\"+\"`\"+output+\"`\"))\n",
    "display(Markdown(\"###### Attempting to display the base64 encoding:\\n\\n\"))\n",
    "display(Markdown(output))\n",
    "\n",
    "display(Markdown(\"###### It shows the Image now!\"))\n",
    "display(Markdown(\"###### Suprising to me, using `base64.urlsafe_b64encode()` does not work but `base64.b64encode()` does.\"))"
   ]
  },
  {
   "cell_type": "code",
   "execution_count": 4,
   "metadata": {
    "collapsed": false
   },
   "outputs": [
    {
     "name": "stdout",
     "output_type": "stream",
     "text": [
      "[NbConvertApp] Converting notebook img2base64.ipynb to html\n",
      "[NbConvertApp] Writing 280076 bytes to img2base64.html\n"
     ]
    }
   ],
   "source": [
    "#Let's convert it to an .html and see if this helps\n",
    "!jupyter nbconvert --to html img2base64.ipynb"
   ]
  },
  {
   "cell_type": "code",
   "execution_count": 5,
   "metadata": {
    "collapsed": false,
    "scrolled": true
   },
   "outputs": [],
   "source": [
    "#Running this cell shows image that would not show in the MD cell\n",
    "!firefox img2base64.html"
   ]
  }
 ],
 "metadata": {
  "hide_input": false,
  "kernelspec": {
   "display_name": "py35",
   "language": "python",
   "name": "py35"
  },
  "language_info": {
   "codemirror_mode": {
    "name": "ipython",
    "version": 3
   },
   "file_extension": ".py",
   "mimetype": "text/x-python",
   "name": "python",
   "nbconvert_exporter": "python",
   "pygments_lexer": "ipython3",
   "version": "3.5.1"
  },
  "nav_menu": {},
  "toc": {
   "navigate_menu": true,
   "number_sections": true,
   "sideBar": true,
   "threshold": 6,
   "toc_cell": false,
   "toc_section_display": "block",
   "toc_window_display": false
  }
 },
 "nbformat": 4,
 "nbformat_minor": 0
}
