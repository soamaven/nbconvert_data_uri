{
 "cells": [
  {
   "cell_type": "code",
   "execution_count": 1,
   "metadata": {
    "collapsed": false
   },
   "outputs": [
    {
     "ename": "ImportError",
     "evalue": "No module named html.parser",
     "output_type": "error",
     "traceback": [
      "\u001b[1;31m---------------------------------------------------------------------------\u001b[0m",
      "\u001b[1;31mImportError\u001b[0m                               Traceback (most recent call last)",
      "\u001b[1;32m<ipython-input-1-840271e8a80c>\u001b[0m in \u001b[0;36m<module>\u001b[1;34m()\u001b[0m\n\u001b[0;32m      1\u001b[0m \u001b[1;32mimport\u001b[0m \u001b[0mbase64\u001b[0m\u001b[1;33m\u001b[0m\u001b[0m\n\u001b[1;32m----> 2\u001b[1;33m \u001b[1;32mfrom\u001b[0m \u001b[0mhtml\u001b[0m\u001b[1;33m.\u001b[0m\u001b[0mparser\u001b[0m \u001b[1;32mimport\u001b[0m \u001b[0mHTMLParser\u001b[0m\u001b[1;33m\u001b[0m\u001b[0m\n\u001b[0m",
      "\u001b[1;31mImportError\u001b[0m: No module named html.parser"
     ]
    }
   ],
   "source": [
    "import base64\n",
    "from html.parser import HTMLParser"
   ]
  },
  {
   "cell_type": "code",
   "execution_count": 4,
   "metadata": {
    "collapsed": false
   },
   "outputs": [],
   "source": [
    "%%%bash\n",
    "cp /home/colton/PycharmProjects/LSCs/Images/ModifiedHoneyComb.png /home/colton/PycharmProjects/nbconvert_data_uri"
   ]
  },
  {
   "cell_type": "code",
   "execution_count": 20,
   "metadata": {
    "collapsed": false
   },
   "outputs": [],
   "source": [
    "class MyHTMLParser(HTMLParser):\n",
    "    def handle_starttag(self, tag, attrs):\n",
    "        print(\"Encountered a start tag:\", tag)\n",
    "        for attr, data in attrs:\n",
    "            print(\"Encountered attribute:\", attr, data)\n",
    "    def handle_endtag(self, tag):\n",
    "        print(\"Encountered an end tag :\", tag)\n",
    "    def handle_data(self, data):\n",
    "        print(\"Encountered some data  :\", data)"
   ]
  },
  {
   "cell_type": "code",
   "execution_count": 190,
   "metadata": {
    "collapsed": false
   },
   "outputs": [
    {
     "name": "stdout",
     "output_type": "stream",
     "text": [
      "Encountered a start tag: html\n",
      "Encountered a start tag: head\n",
      "Encountered a start tag: title\n",
      "Encountered some data  : Test\n",
      "Encountered an end tag : title\n",
      "Encountered an end tag : head\n",
      "Encountered a start tag: body\n",
      "Encountered a start tag: h1\n",
      "Encountered some data  : Parse me!\n",
      "Encountered an end tag : h1\n",
      "Encountered an end tag : body\n",
      "Encountered an end tag : html\n",
      "Encountered a start tag: img\n",
      "Encountered attribute: src ./Images/My_image.png\n",
      "Encountered attribute: width 800\n",
      "Encountered attribute: height 800\n",
      "Encountered attribute: alt Alt_name\n",
      "Encountered attribute: title Mytitle\n",
      "Encountered attribute: align center\n",
      "Encountered an end tag : img\n"
     ]
    }
   ],
   "source": [
    "parser = MyHTMLParser()\n",
    "parser.feed('<html><head><title>Test</title></head><body><h1>Parse me!</h1></body></html><img src=\"./Images/My_image.png\" width=\"800\" height=\"800\" alt=\"Alt_name\" title=\"Mytitle\" align=\"center\" />')"
   ]
  },
  {
   "cell_type": "code",
   "execution_count": 6,
   "metadata": {
    "collapsed": true
   },
   "outputs": [],
   "source": [
    "source = '<html><head><title>Test</title></head><body><h1>Parse me!</h1></body></html><img src=\"ModifiedHoneyComb.png\" width=\"800\" height=\"800\" alt=\"Alt_name\" title=\"Mytitle\" align=\"center\" />'"
   ]
  },
  {
   "cell_type": "code",
   "execution_count": 13,
   "metadata": {
    "collapsed": false
   },
   "outputs": [
    {
     "data": {
      "text/plain": [
       "'<html><head><title>Test</title></head><body><h1>Parse me!</h1></body></html><img src=\"data:image/png;base64,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\" width=\"800\" height=\"800\" alt=\"Alt_name\" title=\"Mytitle\" align=\"center\" />'"
      ]
     },
     "execution_count": 13,
     "metadata": {},
     "output_type": "execute_result"
    }
   ],
   "source": [
    "\"\"\"HTML Image handling for embedded images in markdown cells.\"\"\"\n",
    "\n",
    "#-----------------------------------------------------------------------------\n",
    "# Copyright (c) 2013, the IPython Development Team.\n",
    "#\n",
    "# Distributed under the terms of the Modified BSD License.\n",
    "#\n",
    "# The full license is in the file COPYING.txt, distributed with this software.\n",
    "#-----------------------------------------------------------------------------\n",
    "\n",
    "#-----------------------------------------------------------------------------\n",
    "# Imports\n",
    "#-----------------------------------------------------------------------------\n",
    "from ipython_genutils.py3compat import PY3\n",
    "if PY3:\n",
    "    from html.parser import HTMLParser\n",
    "else:\n",
    "    from HTMLParser import HTMLParser\n",
    "import base64\n",
    "import os.path\n",
    "\n",
    "#-----------------------------------------------------------------------------\n",
    "# Functions\n",
    "#-----------------------------------------------------------------------------\n",
    "\n",
    "__all__ = ['img2base64']\n",
    "\n",
    "\n",
    "def img2base64(s):\n",
    "    \"\"\"Parse HTML image references in Markdown cells.\n",
    "\n",
    "    This looks for HTML tags having a img tag name `img`\n",
    "    and converts the image to a data URI for static embedding.\n",
    "    The tranformation looks like this:\n",
    "\n",
    "    `<img src=\"./Images/My_image.png\" width=\"800\" height=\"800\" alt=\"Alt_name\" title=\"Mytitle\" align=\"center\" />`\n",
    "\n",
    "    Becomes\n",
    "\n",
    "    `<img src=\"data:image/png;base64,iVBORw0KGgoAAAANSUhEUgAAADIA...\" width=\"800\" height=\"800\" alt=\"Alt_name\" title=\"Mytitle\" align=\"center\" />`\n",
    "\n",
    "    Any HTML tag can be used, which allows the citations to be formatted\n",
    "    in HTML in any manner.\n",
    "    \"\"\"\n",
    "    parser = Img2Base64Parser()\n",
    "    parser.feed(s)\n",
    "    parser.close()\n",
    "    outtext = u''\n",
    "    startpos = 0\n",
    "    for img in parser.imglist:\n",
    "            outtext += s[startpos:img[1][0]]\n",
    "            outtext += 'data:image/%s;base64,%s'% \\\n",
    "                (img[0][1],str(img[0][0]).lstrip('b\\'').rstrip('\\''))\n",
    "            startpos = img[1][1] if len(img)==3 else -1\n",
    "    outtext += s[startpos:] if startpos != -1 else ''\n",
    "    return outtext\n",
    "\n",
    "#-----------------------------------------------------------------------------\n",
    "# Classes\n",
    "#-----------------------------------------------------------------------------\n",
    "\n",
    "class Img2Base64Parser(HTMLParser):\n",
    "    \"\"\"Image Parser\n",
    "    Replaces html img file references with base64 encoded strings.\n",
    "    \n",
    "    Inherites from HTMLParser, overrides:\n",
    "     - handle_starttag\n",
    "     - handle_endtag\n",
    "    \"\"\"\n",
    "    # number of open tags\n",
    "    opentags = None\n",
    "    # list of found imgs\n",
    "    imglist = None\n",
    "    # active img tag\n",
    "    imgtag = None\n",
    "\n",
    "    def __init__(self):\n",
    "        self.imglist = []\n",
    "        self.opentags = 0\n",
    "        HTMLParser.__init__(self)\n",
    "    \n",
    "    def get_offset(self):\n",
    "        # Compute startposition in source\n",
    "        lin, offset = self.getpos()\n",
    "        pos = 0\n",
    "        for i in range(lin):\n",
    "            pos = self.data.find('src=',pos) + 5\n",
    "        return pos\n",
    "        \n",
    "    def handle_starttag(self, tag, attrs):\n",
    "        # for each tag check if attributes are present and convert src to base64\n",
    "        if self.opentags == 0 and len(attrs)>0:\n",
    "            for atr, data in attrs:\n",
    "                if atr.lower() == 'src':\n",
    "                    self.imgtag = tag\n",
    "                    self.opentags = 1\n",
    "                    with open(data, \"rb\") as image_file:\n",
    "                        encoded_data = base64.urlsafe_b64encode(image_file.read())\n",
    "                        extension = os.path.splitext(data)[1][1:].strip().lower()\n",
    "                    self.imglist.append([[encoded_data, extension],\n",
    "                                         [self.get_offset(), self.get_offset()+len(data)]])\n",
    "                    return\n",
    "                \n",
    "        if tag == self.imgtag:\n",
    "            # found an open img tag but not the starting one  \n",
    "            self.opentags += 1\n",
    "  \n",
    "    def handle_endtag(self, tag):\n",
    "        if tag == self.imgtag:\n",
    "            # found img tag check if starting one\n",
    "            if self.opentags == 1:\n",
    "                pos = self.get_offset()\n",
    "\n",
    "                self.imglist[-1].append(pos+len(tag)+ 3)\n",
    "            self.opentags -= 1\n",
    "        \n",
    "    def feed(self, data):\n",
    "        self.data = data\n",
    "        HTMLParser.feed(self, data)\n",
    "        \n",
    "img2base64(source)"
   ]
  },
  {
   "cell_type": "markdown",
   "metadata": {},
   "source": [
    "<img src=\"data:image/png;base64,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\" width=\"800\" height=\"800\" alt=\"Alt_name\" title=\"Mytitle\" align=\"center\" />"
   ]
  }
 ],
 "metadata": {
  "hide_input": false,
  "kernelspec": {
   "display_name": "py35",
   "language": "python",
   "name": "py35"
  },
  "language_info": {
   "codemirror_mode": {
    "name": "ipython",
    "version": 3
   },
   "file_extension": ".py",
   "mimetype": "text/x-python",
   "name": "python",
   "nbconvert_exporter": "python",
   "pygments_lexer": "ipython3",
   "version": "3.5.1"
  },
  "nav_menu": {},
  "toc": {
   "navigate_menu": true,
   "number_sections": true,
   "sideBar": true,
   "threshold": 6,
   "toc_cell": false,
   "toc_section_display": "block",
   "toc_window_display": false
  }
 },
 "nbformat": 4,
 "nbformat_minor": 0
}
