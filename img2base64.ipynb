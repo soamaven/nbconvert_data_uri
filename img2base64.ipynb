{
 "cells": [
  {
   "cell_type": "code",
   "execution_count": 1,
   "metadata": {
    "collapsed": false
   },
   "outputs": [
    {
     "ename": "ImportError",
     "evalue": "No module named html.parser",
     "output_type": "error",
     "traceback": [
      "\u001b[1;31m---------------------------------------------------------------------------\u001b[0m",
      "\u001b[1;31mImportError\u001b[0m                               Traceback (most recent call last)",
      "\u001b[1;32m<ipython-input-1-840271e8a80c>\u001b[0m in \u001b[0;36m<module>\u001b[1;34m()\u001b[0m\n\u001b[0;32m      1\u001b[0m \u001b[1;32mimport\u001b[0m \u001b[0mbase64\u001b[0m\u001b[1;33m\u001b[0m\u001b[0m\n\u001b[1;32m----> 2\u001b[1;33m \u001b[1;32mfrom\u001b[0m \u001b[0mhtml\u001b[0m\u001b[1;33m.\u001b[0m\u001b[0mparser\u001b[0m \u001b[1;32mimport\u001b[0m \u001b[0mHTMLParser\u001b[0m\u001b[1;33m\u001b[0m\u001b[0m\n\u001b[0m",
      "\u001b[1;31mImportError\u001b[0m: No module named html.parser"
     ]
    }
   ],
   "source": [
    "import base64\n",
    "from html.parser import HTMLParser"
   ]
  },
  {
   "cell_type": "code",
   "execution_count": 4,
   "metadata": {
    "collapsed": false
   },
   "outputs": [],
   "source": [
    "%%%bash\n",
    "cp /home/colton/PycharmProjects/LSCs/Images/ModifiedHoneyComb.png /home/colton/PycharmProjects/nbconvert_data_uri"
   ]
  },
  {
   "cell_type": "code",
   "execution_count": 20,
   "metadata": {
    "collapsed": false
   },
   "outputs": [],
   "source": [
    "class MyHTMLParser(HTMLParser):\n",
    "    def handle_starttag(self, tag, attrs):\n",
    "        print(\"Encountered a start tag:\", tag)\n",
    "        for attr, data in attrs:\n",
    "            print(\"Encountered attribute:\", attr, data)\n",
    "    def handle_endtag(self, tag):\n",
    "        print(\"Encountered an end tag :\", tag)\n",
    "    def handle_data(self, data):\n",
    "        print(\"Encountered some data  :\", data)"
   ]
  },
  {
   "cell_type": "code",
   "execution_count": 190,
   "metadata": {
    "collapsed": false
   },
   "outputs": [
    {
     "name": "stdout",
     "output_type": "stream",
     "text": [
      "Encountered a start tag: html\n",
      "Encountered a start tag: head\n",
      "Encountered a start tag: title\n",
      "Encountered some data  : Test\n",
      "Encountered an end tag : title\n",
      "Encountered an end tag : head\n",
      "Encountered a start tag: body\n",
      "Encountered a start tag: h1\n",
      "Encountered some data  : Parse me!\n",
      "Encountered an end tag : h1\n",
      "Encountered an end tag : body\n",
      "Encountered an end tag : html\n",
      "Encountered a start tag: img\n",
      "Encountered attribute: src ./Images/My_image.png\n",
      "Encountered attribute: width 800\n",
      "Encountered attribute: height 800\n",
      "Encountered attribute: alt Alt_name\n",
      "Encountered attribute: title Mytitle\n",
      "Encountered attribute: align center\n",
      "Encountered an end tag : img\n"
     ]
    }
   ],
   "source": [
    "parser = MyHTMLParser()\n",
    "parser.feed('<html><head><title>Test</title></head><body><h1>Parse me!</h1></body></html><img src=\"./Images/My_image.png\" width=\"800\" height=\"800\" alt=\"Alt_name\" title=\"Mytitle\" align=\"center\" />')"
   ]
  },
  {
   "cell_type": "code",
   "execution_count": 14,
   "metadata": {
    "collapsed": true
   },
   "outputs": [],
   "source": [
    "source = '<html><head><title>Test</title></head><body><h1>Parse me!</h1></body></html><img src=\"favorites.png\" width=\"800\" height=\"800\" alt=\"Alt_name\" title=\"Mytitle\" align=\"center\" />'"
   ]
  },
  {
   "cell_type": "code",
   "execution_count": 15,
   "metadata": {
    "collapsed": false
   },
   "outputs": [
    {
     "data": {
      "text/plain": [
       "'<html><head><title>Test</title></head><body><h1>Parse me!</h1></body></html><img src=\"data:image/png;base64,iVBORw0KGgoAAAANSUhEUgAAABgAAAAYCAYAAADgdz34AAAABmJLR0QA_wD_AP-gvaeTAAAACXBIWXMAAABIAAAASABGyWs-AAAACXZwQWcAAAAYAAAAGAB4TKWmAAAEhUlEQVRIx91US4tcVRD-6j67e7r7ziPTQ9OZmHEwojJuxIhB1JCEBFdxETAqroMr_QGC4MJNQAVFFHwjCKKRSLIIGh0N0YAYDRHywjjJZN79uNN3-r7OqXLR3TOdSTI7NxYc6txzq77vq7p1D_AfG93u8Kft9-QMy-wnAolI8Njpi_76mMkHRy0yMAiCA0EMltrj56b1hgQ_79iWX7o0-5Jtuwf6BorjRDCiIJxpLTcnCyPFN_ZcmDl_6uG7qD7dOMApDuUHvQnTNPJKsR9U6-cMG-8VN_UdefKvOb6F4MS95crK4srxynh5IjuUhTVcALSG8ltQforaQjMO_MZhVnJ_afPI_lzeIDMnMCwDHKfQkYnWisjCtdlv-4ezL-y8tLS8SvDjxObc8lzzm8rYyG5v-1bqmxgTCJOkCViloqo-BWenEMwmYppArmxRZmxQiECiFERp0WFM0dU64sCRmb9nvy4U7Od3XfcjCwAaM_X9pcrIrtxYgdxRD-nSPNqJKZBqsEqRHffA8Q0yXFPs4Ry070OUXltaw_IIOqijVBl-emFq7lkAHxIAHB32fqhsGXhiYOcYwLoD3l1rAFgHKIoBzat7ThjKT8GJi3k_Pe8Y-iHrxJbBopCzzcwKVK22WrIoTVAaollEaZIOEBSLaCZRLKKYdMzgmIUjTRwzwBCYmrL54qgKmlssYekzHMOWJIFaakB6FIlmoONFS9srgW5p6FBDUgEEEBEQtedFREDMMAyyAWQsgbS0ZsWRRlpLRLR0yhZZAxYRFkgq0K32u87wdT1EVs9g5FxJoiQAsGDsm274aRhPCVtQfkzKjyj1Yyg_IbWckmqmUE1FuqlJB0yiBdSRSx3r3ZNlwBooUrTSOrNvaWXRAgBO4y-1NfSIVGsCAKIBCERYujoFPdZV26taRIQMglMqYtlXiW3iTQAwAMB2zI-WFhqXzfwQSQISJQCDCESQHnU9am-pwDTIGfEolQxqM9W33Iw9uUrw1HyznjabLza1FRr5AkC3vaLufKFZBtyyB00Zmb48dzzT776ye2aZAcDsBn2R6Kt7o2jaLXp7Xce0JElWWboq1z-3e27CrQxAsYN_Ls1_X3fN5w4urgTdWLM38atU__loGF7IZfN7c30ZV-JoQ-Vm1oG7eRBJaODCxbljV2165mU_atwUsz5pa9a5-HvV_61sOXu8_kIBSQzq-Qxd5WYhC7cyRKGv5bvLc8dej9WhmmH41xTzhgQtEfuE4uofQfjLNiXbS6WhTYjCm1pkD-bJKQ8gWExw9Mr8kcOJfrUOhNcVy5hJuiHgOxJogRMCmSrQOhWnJz2_NTo-MnS3yQpghlMegLPJQ-PGCn9yZf7TdzW_kwAhgBSAigWJwgYEDEC3p8sIgfRX5tOW3zLHvcID-ZJnWV4OC1N-_MHU0vufi3ysgQBtghBApIB4wxZpgG1AGYBmQGkgPityZnG5NX2f0I5WI-K3b9ReOyL4jAEfbYImrRHd9FNuOPCDBHKILBBsDZg7gImsYOgkYTIVsAmomEU1AYX_rf0L5MnfQwHIBdQAAAAldEVYdGRhdGU6Y3JlYXRlADIwMTAtMDItMTBUMTI6Mjg6MTAtMDY6MDAAG4MqAAAAJXRFWHRkYXRlOm1vZGlmeQAyMDA5LTA1LTI1VDIxOjIwOjE2LTA1OjAwhLoNbgAAAABJRU5ErkJggg==\" width=\"800\" height=\"800\" alt=\"Alt_name\" title=\"Mytitle\" align=\"center\" />'"
      ]
     },
     "execution_count": 15,
     "metadata": {},
     "output_type": "execute_result"
    }
   ],
   "source": [
    "\"\"\"HTML Image handling for embedded images in markdown cells.\"\"\"\n",
    "\n",
    "#-----------------------------------------------------------------------------\n",
    "# Copyright (c) 2013, the IPython Development Team.\n",
    "#\n",
    "# Distributed under the terms of the Modified BSD License.\n",
    "#\n",
    "# The full license is in the file COPYING.txt, distributed with this software.\n",
    "#-----------------------------------------------------------------------------\n",
    "\n",
    "#-----------------------------------------------------------------------------\n",
    "# Imports\n",
    "#-----------------------------------------------------------------------------\n",
    "from ipython_genutils.py3compat import PY3\n",
    "if PY3:\n",
    "    from html.parser import HTMLParser\n",
    "else:\n",
    "    from HTMLParser import HTMLParser\n",
    "import base64\n",
    "import os.path\n",
    "\n",
    "#-----------------------------------------------------------------------------\n",
    "# Functions\n",
    "#-----------------------------------------------------------------------------\n",
    "\n",
    "__all__ = ['img2base64']\n",
    "\n",
    "\n",
    "def img2base64(s):\n",
    "    \"\"\"Parse HTML image references in Markdown cells.\n",
    "\n",
    "    This looks for HTML tags having a img tag name `img`\n",
    "    and converts the image to a data URI for static embedding.\n",
    "    The tranformation looks like this:\n",
    "\n",
    "    `<img src=\"./Images/My_image.png\" width=\"800\" height=\"800\" alt=\"Alt_name\" title=\"Mytitle\" align=\"center\" />`\n",
    "\n",
    "    Becomes\n",
    "\n",
    "    `<img src=\"data:image/png;base64,iVBORw0KGgoAAAANSUhEUgAAADIA...\" width=\"800\" height=\"800\" alt=\"Alt_name\" title=\"Mytitle\" align=\"center\" />`\n",
    "\n",
    "    Any HTML tag can be used, which allows the citations to be formatted\n",
    "    in HTML in any manner.\n",
    "    \"\"\"\n",
    "    parser = Img2Base64Parser()\n",
    "    parser.feed(s)\n",
    "    parser.close()\n",
    "    outtext = u''\n",
    "    startpos = 0\n",
    "    for img in parser.imglist:\n",
    "            outtext += s[startpos:img[1][0]]\n",
    "            outtext += 'data:image/%s;base64,%s'% \\\n",
    "                (img[0][1],str(img[0][0]).lstrip('b\\'').rstrip('\\''))\n",
    "            startpos = img[1][1] if len(img)==3 else -1\n",
    "    outtext += s[startpos:] if startpos != -1 else ''\n",
    "    return outtext\n",
    "\n",
    "#-----------------------------------------------------------------------------\n",
    "# Classes\n",
    "#-----------------------------------------------------------------------------\n",
    "\n",
    "class Img2Base64Parser(HTMLParser):\n",
    "    \"\"\"Image Parser\n",
    "    Replaces html img file references with base64 encoded strings.\n",
    "    \n",
    "    Inherites from HTMLParser, overrides:\n",
    "     - handle_starttag\n",
    "     - handle_endtag\n",
    "    \"\"\"\n",
    "    # number of open tags\n",
    "    opentags = None\n",
    "    # list of found imgs\n",
    "    imglist = None\n",
    "    # active img tag\n",
    "    imgtag = None\n",
    "\n",
    "    def __init__(self):\n",
    "        self.imglist = []\n",
    "        self.opentags = 0\n",
    "        HTMLParser.__init__(self)\n",
    "    \n",
    "    def get_offset(self):\n",
    "        # Compute startposition in source\n",
    "        lin, offset = self.getpos()\n",
    "        pos = 0\n",
    "        for i in range(lin):\n",
    "            pos = self.data.find('src=',pos) + 5\n",
    "        return pos\n",
    "        \n",
    "    def handle_starttag(self, tag, attrs):\n",
    "        # for each tag check if attributes are present and convert src to base64\n",
    "        if self.opentags == 0 and len(attrs)>0:\n",
    "            for atr, data in attrs:\n",
    "                if atr.lower() == 'src':\n",
    "                    self.imgtag = tag\n",
    "                    self.opentags = 1\n",
    "                    with open(data, \"rb\") as image_file:\n",
    "                        encoded_data = base64.urlsafe_b64encode(image_file.read())\n",
    "                        extension = os.path.splitext(data)[1][1:].strip().lower()\n",
    "                    self.imglist.append([[encoded_data, extension],\n",
    "                                         [self.get_offset(), self.get_offset()+len(data)]])\n",
    "                    return\n",
    "                \n",
    "        if tag == self.imgtag:\n",
    "            # found an open img tag but not the starting one  \n",
    "            self.opentags += 1\n",
    "  \n",
    "    def handle_endtag(self, tag):\n",
    "        if tag == self.imgtag:\n",
    "            # found img tag check if starting one\n",
    "            if self.opentags == 1:\n",
    "                pos = self.get_offset()\n",
    "\n",
    "                self.imglist[-1].append(pos+len(tag)+ 3)\n",
    "            self.opentags -= 1\n",
    "        \n",
    "    def feed(self, data):\n",
    "        self.data = data\n",
    "        HTMLParser.feed(self, data)\n",
    "        \n",
    "img2base64(source)"
   ]
  },
  {
   "cell_type": "markdown",
   "metadata": {},
   "source": [
    "<img src=\"data:image/png;base64,iVBORw0KGgoAAAANSUhEUgAAABgAAAAYCAYAAADgdz34AAAABmJLR0QA_wD_AP-gvaeTAAAACXBIWXMAAABIAAAASABGyWs-AAAACXZwQWcAAAAYAAAAGAB4TKWmAAAEhUlEQVRIx91US4tcVRD-6j67e7r7ziPTQ9OZmHEwojJuxIhB1JCEBFdxETAqroMr_QGC4MJNQAVFFHwjCKKRSLIIGh0N0YAYDRHywjjJZN79uNN3-r7OqXLR3TOdSTI7NxYc6txzq77vq7p1D_AfG93u8Kft9-QMy-wnAolI8Njpi_76mMkHRy0yMAiCA0EMltrj56b1hgQ_79iWX7o0-5Jtuwf6BorjRDCiIJxpLTcnCyPFN_ZcmDl_6uG7qD7dOMApDuUHvQnTNPJKsR9U6-cMG-8VN_UdefKvOb6F4MS95crK4srxynh5IjuUhTVcALSG8ltQforaQjMO_MZhVnJ_afPI_lzeIDMnMCwDHKfQkYnWisjCtdlv-4ezL-y8tLS8SvDjxObc8lzzm8rYyG5v-1bqmxgTCJOkCViloqo-BWenEMwmYppArmxRZmxQiECiFERp0WFM0dU64sCRmb9nvy4U7Od3XfcjCwAaM_X9pcrIrtxYgdxRD-nSPNqJKZBqsEqRHffA8Q0yXFPs4Ry070OUXltaw_IIOqijVBl-emFq7lkAHxIAHB32fqhsGXhiYOcYwLoD3l1rAFgHKIoBzat7ThjKT8GJi3k_Pe8Y-iHrxJbBopCzzcwKVK22WrIoTVAaollEaZIOEBSLaCZRLKKYdMzgmIUjTRwzwBCYmrL54qgKmlssYekzHMOWJIFaakB6FIlmoONFS9srgW5p6FBDUgEEEBEQtedFREDMMAyyAWQsgbS0ZsWRRlpLRLR0yhZZAxYRFkgq0K32u87wdT1EVs9g5FxJoiQAsGDsm274aRhPCVtQfkzKjyj1Yyg_IbWckmqmUE1FuqlJB0yiBdSRSx3r3ZNlwBooUrTSOrNvaWXRAgBO4y-1NfSIVGsCAKIBCERYujoFPdZV26taRIQMglMqYtlXiW3iTQAwAMB2zI-WFhqXzfwQSQISJQCDCESQHnU9am-pwDTIGfEolQxqM9W33Iw9uUrw1HyznjabLza1FRr5AkC3vaLufKFZBtyyB00Zmb48dzzT776ye2aZAcDsBn2R6Kt7o2jaLXp7Xce0JElWWboq1z-3e27CrQxAsYN_Ls1_X3fN5w4urgTdWLM38atU__loGF7IZfN7c30ZV-JoQ-Vm1oG7eRBJaODCxbljV2165mU_atwUsz5pa9a5-HvV_61sOXu8_kIBSQzq-Qxd5WYhC7cyRKGv5bvLc8dej9WhmmH41xTzhgQtEfuE4uofQfjLNiXbS6WhTYjCm1pkD-bJKQ8gWExw9Mr8kcOJfrUOhNcVy5hJuiHgOxJogRMCmSrQOhWnJz2_NTo-MnS3yQpghlMegLPJQ-PGCn9yZf7TdzW_kwAhgBSAigWJwgYEDEC3p8sIgfRX5tOW3zLHvcID-ZJnWV4OC1N-_MHU0vufi3ysgQBtghBApIB4wxZpgG1AGYBmQGkgPityZnG5NX2f0I5WI-K3b9ReOyL4jAEfbYImrRHd9FNuOPCDBHKILBBsDZg7gImsYOgkYTIVsAmomEU1AYX_rf0L5MnfQwHIBdQAAAAldEVYdGRhdGU6Y3JlYXRlADIwMTAtMDItMTBUMTI6Mjg6MTAtMDY6MDAAG4MqAAAAJXRFWHRkYXRlOm1vZGlmeQAyMDA5LTA1LTI1VDIxOjIwOjE2LTA1OjAwhLoNbgAAAABJRU5ErkJggg==\" width=\"800\" height=\"800\" alt=\"Alt_name\" title=\"Mytitle\" align=\"center\" />"
   ]
  }
 ],
 "metadata": {
  "hide_input": false,
  "kernelspec": {
   "display_name": "py35",
   "language": "python",
   "name": "py35"
  },
  "language_info": {
   "codemirror_mode": {
    "name": "ipython",
    "version": 3
   },
   "file_extension": ".py",
   "mimetype": "text/x-python",
   "name": "python",
   "nbconvert_exporter": "python",
   "pygments_lexer": "ipython3",
   "version": "3.5.1"
  },
  "nav_menu": {},
  "toc": {
   "navigate_menu": true,
   "number_sections": true,
   "sideBar": true,
   "threshold": 6,
   "toc_cell": false,
   "toc_section_display": "block",
   "toc_window_display": false
  }
 },
 "nbformat": 4,
 "nbformat_minor": 0
}
