{
 "cells": [
  {
   "cell_type": "code",
   "execution_count": 6,
   "metadata": {
    "collapsed": true
   },
   "outputs": [],
   "source": [
    "# A non-trivial string of html code to parse as a test input\n",
    "source = '<html><head><title>Test</title></head><body><h1>Parse me!</h1></body></html><img src=\"favorites.png\" width=\"800\" height=\"800\" alt=\"Alt_name\" title=\"Mytitle\" align=\"center\" /><html><head><title>Test</title></head><body><h1>Parse me!</h1></body></html>'"
   ]
  },
  {
   "cell_type": "code",
   "execution_count": 7,
   "metadata": {
    "collapsed": false
   },
   "outputs": [],
   "source": [
    "\"\"\"HTML Image handling for embedded images in markdown cells.\"\"\"\n",
    "\n",
    "#-----------------------------------------------------------------------------\n",
    "# Copyright (c) 2013, the IPython Development Team.\n",
    "#\n",
    "# Distributed under the terms of the Modified BSD License.\n",
    "#\n",
    "# The full license is in the file COPYING.txt, distributed with this software.\n",
    "#-----------------------------------------------------------------------------\n",
    "\n",
    "#-----------------------------------------------------------------------------\n",
    "# Imports\n",
    "#-----------------------------------------------------------------------------\n",
    "from ipython_genutils.py3compat import PY3\n",
    "if PY3:\n",
    "    from html.parser import HTMLParser\n",
    "else:\n",
    "    from HTMLParser import HTMLParser\n",
    "import base64\n",
    "import os.path\n",
    "\n",
    "#-----------------------------------------------------------------------------\n",
    "# Functions\n",
    "#-----------------------------------------------------------------------------\n",
    "\n",
    "__all__ = ['img2base64']\n",
    "\n",
    "\n",
    "def img2base64(s):\n",
    "    \"\"\"Parse HTML image references in Markdown cells.\n",
    "\n",
    "    This looks for HTML tags having a img tag name `img`\n",
    "    and converts the image to a data URI for static embedding.\n",
    "    The tranformation looks like this:\n",
    "\n",
    "    `<img src=\"./Images/My_image.png\" width=\"800\" height=\"800\" alt=\"Alt_name\" title=\"Mytitle\" align=\"center\" />`\n",
    "\n",
    "    Becomes\n",
    "\n",
    "    `<img src=\"data:image/png;base64,iVBORw0KGgoAAAANSUhEUgAAADIA...\" width=\"800\" height=\"800\" alt=\"Alt_name\" title=\"Mytitle\" align=\"center\" />`\n",
    "\n",
    "    Any HTML tag can be used, which allows the citations to be formatted\n",
    "    in HTML in any manner.\n",
    "    \"\"\"\n",
    "    parser = Img2Base64Parser()\n",
    "    parser.feed(s)\n",
    "    parser.close()\n",
    "    outtext = u''\n",
    "    startpos = 0\n",
    "    for img in parser.imglist:\n",
    "            outtext += s[startpos:img[1][0]]\n",
    "            outtext += 'data:image/%s;base64,%s'% \\\n",
    "                (img[0][1],str(img[0][0]).lstrip('b\\'').rstrip('\\''))\n",
    "            startpos = img[1][1] if len(img)==3 else -1\n",
    "    outtext += s[startpos:] if startpos != -1 else ''\n",
    "    return outtext\n",
    "\n",
    "#-----------------------------------------------------------------------------\n",
    "# Classes\n",
    "#-----------------------------------------------------------------------------\n",
    "\n",
    "class Img2Base64Parser(HTMLParser):\n",
    "    \"\"\"Image Parser\n",
    "    Replaces html img file references with base64 encoded strings.\n",
    "    \n",
    "    Inherites from HTMLParser, overrides:\n",
    "     - handle_starttag\n",
    "     - handle_endtag\n",
    "    \"\"\"\n",
    "    # number of open tags\n",
    "    opentags = None\n",
    "    # list of found imgs\n",
    "    imglist = None\n",
    "    # active img tag\n",
    "    imgtag = None\n",
    "\n",
    "    def __init__(self):\n",
    "        self.imglist = []\n",
    "        self.opentags = 0\n",
    "        HTMLParser.__init__(self)\n",
    "    \n",
    "    def get_offset(self):\n",
    "        # Compute startposition in source\n",
    "        lin, offset = self.getpos()\n",
    "        pos = 0\n",
    "        for i in range(lin):\n",
    "            pos = self.data.find('src=',pos) + 5\n",
    "        return pos\n",
    "        \n",
    "    def handle_starttag(self, tag, attrs):\n",
    "        # for each tag check if attributes are present and convert src to base64\n",
    "        if self.opentags == 0 and len(attrs)>0:\n",
    "            for atr, data in attrs:\n",
    "                if atr.lower() == 'src':\n",
    "                    self.imgtag = tag\n",
    "                    self.opentags = 1\n",
    "                    with open(data, \"rb\") as image_file:\n",
    "                        encoded_data = base64.urlsafe_b64encode(image_file.read())\n",
    "                        extension = os.path.splitext(data)[1][1:].strip().lower()\n",
    "                    self.imglist.append([[encoded_data, extension],\n",
    "                                         [self.get_offset(), self.get_offset()+len(data)]])\n",
    "                    return\n",
    "                \n",
    "        if tag == self.imgtag:\n",
    "            # found an open img tag but not the starting one  \n",
    "            self.opentags += 1\n",
    "  \n",
    "    def handle_endtag(self, tag):\n",
    "        if tag == self.imgtag:\n",
    "            # found img tag check if starting one\n",
    "            if self.opentags == 1:\n",
    "                pos = self.get_offset()\n",
    "\n",
    "                self.imglist[-1].append(pos+len(tag)+ 3)\n",
    "            self.opentags -= 1\n",
    "        \n",
    "    def feed(self, data):\n",
    "        self.data = data\n",
    "        HTMLParser.feed(self, data)\n",
    "        \n",
    "output = img2base64(source)"
   ]
  },
  {
   "cell_type": "code",
   "execution_count": 8,
   "metadata": {
    "collapsed": false
   },
   "outputs": [
    {
     "data": {
      "text/markdown": [
       "<html><head><title>Test</title></head><body><h1>Parse me!</h1></body></html><img src=\"data:image/png;base64,iVBORw0KGgoAAAANSUhEUgAAABgAAAAYCAYAAADgdz34AAAABmJLR0QA_wD_AP-gvaeTAAAACXBIWXMAAABIAAAASABGyWs-AAAACXZwQWcAAAAYAAAAGAB4TKWmAAAEhUlEQVRIx91US4tcVRD-6j67e7r7ziPTQ9OZmHEwojJuxIhB1JCEBFdxETAqroMr_QGC4MJNQAVFFHwjCKKRSLIIGh0N0YAYDRHywjjJZN79uNN3-r7OqXLR3TOdSTI7NxYc6txzq77vq7p1D_AfG93u8Kft9-QMy-wnAolI8Njpi_76mMkHRy0yMAiCA0EMltrj56b1hgQ_79iWX7o0-5Jtuwf6BorjRDCiIJxpLTcnCyPFN_ZcmDl_6uG7qD7dOMApDuUHvQnTNPJKsR9U6-cMG-8VN_UdefKvOb6F4MS95crK4srxynh5IjuUhTVcALSG8ltQforaQjMO_MZhVnJ_afPI_lzeIDMnMCwDHKfQkYnWisjCtdlv-4ezL-y8tLS8SvDjxObc8lzzm8rYyG5v-1bqmxgTCJOkCViloqo-BWenEMwmYppArmxRZmxQiECiFERp0WFM0dU64sCRmb9nvy4U7Od3XfcjCwAaM_X9pcrIrtxYgdxRD-nSPNqJKZBqsEqRHffA8Q0yXFPs4Ry070OUXltaw_IIOqijVBl-emFq7lkAHxIAHB32fqhsGXhiYOcYwLoD3l1rAFgHKIoBzat7ThjKT8GJi3k_Pe8Y-iHrxJbBopCzzcwKVK22WrIoTVAaollEaZIOEBSLaCZRLKKYdMzgmIUjTRwzwBCYmrL54qgKmlssYekzHMOWJIFaakB6FIlmoONFS9srgW5p6FBDUgEEEBEQtedFREDMMAyyAWQsgbS0ZsWRRlpLRLR0yhZZAxYRFkgq0K32u87wdT1EVs9g5FxJoiQAsGDsm274aRhPCVtQfkzKjyj1Yyg_IbWckmqmUE1FuqlJB0yiBdSRSx3r3ZNlwBooUrTSOrNvaWXRAgBO4y-1NfSIVGsCAKIBCERYujoFPdZV26taRIQMglMqYtlXiW3iTQAwAMB2zI-WFhqXzfwQSQISJQCDCESQHnU9am-pwDTIGfEolQxqM9W33Iw9uUrw1HyznjabLza1FRr5AkC3vaLufKFZBtyyB00Zmb48dzzT776ye2aZAcDsBn2R6Kt7o2jaLXp7Xce0JElWWboq1z-3e27CrQxAsYN_Ls1_X3fN5w4urgTdWLM38atU__loGF7IZfN7c30ZV-JoQ-Vm1oG7eRBJaODCxbljV2165mU_atwUsz5pa9a5-HvV_61sOXu8_kIBSQzq-Qxd5WYhC7cyRKGv5bvLc8dej9WhmmH41xTzhgQtEfuE4uofQfjLNiXbS6WhTYjCm1pkD-bJKQ8gWExw9Mr8kcOJfrUOhNcVy5hJuiHgOxJogRMCmSrQOhWnJz2_NTo-MnS3yQpghlMegLPJQ-PGCn9yZf7TdzW_kwAhgBSAigWJwgYEDEC3p8sIgfRX5tOW3zLHvcID-ZJnWV4OC1N-_MHU0vufi3ysgQBtghBApIB4wxZpgG1AGYBmQGkgPityZnG5NX2f0I5WI-K3b9ReOyL4jAEfbYImrRHd9FNuOPCDBHKILBBsDZg7gImsYOgkYTIVsAmomEU1AYX_rf0L5MnfQwHIBdQAAAAldEVYdGRhdGU6Y3JlYXRlADIwMTAtMDItMTBUMTI6Mjg6MTAtMDY6MDAAG4MqAAAAJXRFWHRkYXRlOm1vZGlmeQAyMDA5LTA1LTI1VDIxOjIwOjE2LTA1OjAwhLoNbgAAAABJRU5ErkJggg==\" width=\"800\" height=\"800\" alt=\"Alt_name\" title=\"Mytitle\" align=\"center\" /><html><head><title>Test</title></head><body><h1>Parse me!</h1></body></html>"
      ],
      "text/plain": [
       "<IPython.core.display.Markdown object>"
      ]
     },
     "metadata": {},
     "output_type": "display_data"
    }
   ],
   "source": [
    "#Couldn't figure out a programmatic way to copy the output to a new MD cell,\n",
    "#so I just display it from a code cell\n",
    "from IPython.display import display, Markdown\n",
    "display(Markdown(output))\n",
    "\n",
    "# The original text is displayed on either side of where the image should be"
   ]
  },
  {
   "cell_type": "code",
   "execution_count": 16,
   "metadata": {
    "collapsed": false
   },
   "outputs": [
    {
     "name": "stdout",
     "output_type": "stream",
     "text": [
      "[NbConvertApp] Converting notebook img2base64.ipynb to html\n",
      "[NbConvertApp] Writing 269042 bytes to img2base64.html\n"
     ]
    }
   ],
   "source": [
    "#Let's convert it to an .html and see if this helps\n",
    "!jupyter nbconvert --to html img2base64.ipynb"
   ]
  },
  {
   "cell_type": "code",
   "execution_count": 17,
   "metadata": {
    "collapsed": false,
    "scrolled": true
   },
   "outputs": [],
   "source": [
    "#Running this cell shows the same thing - no image\n",
    "!firefox img2base64.html"
   ]
  }
 ],
 "metadata": {
  "hide_input": false,
  "kernelspec": {
   "display_name": "py35",
   "language": "python",
   "name": "py35"
  },
  "language_info": {
   "codemirror_mode": {
    "name": "ipython",
    "version": 3
   },
   "file_extension": ".py",
   "mimetype": "text/x-python",
   "name": "python",
   "nbconvert_exporter": "python",
   "pygments_lexer": "ipython3",
   "version": "3.5.1"
  },
  "nav_menu": {},
  "toc": {
   "navigate_menu": true,
   "number_sections": true,
   "sideBar": true,
   "threshold": 6,
   "toc_cell": false,
   "toc_section_display": "block",
   "toc_window_display": false
  }
 },
 "nbformat": 4,
 "nbformat_minor": 0
}
